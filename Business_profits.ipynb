{
 "cells": [
  {
   "cell_type": "code",
   "execution_count": 26,
   "id": "2ac3f44a",
   "metadata": {},
   "outputs": [],
   "source": [
    "import numpy as np\n",
    "import pandas as pd\n",
    "import matplotlib.pyplot as plt\n",
    "import seaborn as sns"
   ]
  },
  {
   "cell_type": "code",
   "execution_count": 2,
   "id": "e970ef9a",
   "metadata": {},
   "outputs": [],
   "source": [
    "from sklearn.model_selection import train_test_split\n",
    "from sklearn.preprocessing  import PolynomialFeatures\n",
    "from sklearn.linear_model import LinearRegression\n",
    "from sklearn.metrics import confusion_matrix"
   ]
  },
  {
   "cell_type": "code",
   "execution_count": 3,
   "id": "ff04b3ae",
   "metadata": {},
   "outputs": [],
   "source": [
    "dataset = pd.read_csv('Business_Profits.csv')"
   ]
  },
  {
   "cell_type": "code",
   "execution_count": 4,
   "id": "ee0974cd",
   "metadata": {},
   "outputs": [
    {
     "data": {
      "text/plain": [
       "Index(['Workforce', 'Technology ', 'R&D', 'Advt', 'real estate', 'Profits'], dtype='object')"
      ]
     },
     "execution_count": 4,
     "metadata": {},
     "output_type": "execute_result"
    }
   ],
   "source": [
    "dataset.columns"
   ]
  },
  {
   "cell_type": "code",
   "execution_count": 5,
   "id": "b60b19c1",
   "metadata": {},
   "outputs": [
    {
     "data": {
      "text/plain": [
       "Workforce      0\n",
       "Technology     0\n",
       "R&D            0\n",
       "Advt           0\n",
       "real estate    0\n",
       "Profits        0\n",
       "dtype: int64"
      ]
     },
     "execution_count": 5,
     "metadata": {},
     "output_type": "execute_result"
    }
   ],
   "source": [
    "dataset.isna().sum()"
   ]
  },
  {
   "cell_type": "code",
   "execution_count": 24,
   "id": "b99a55f4",
   "metadata": {},
   "outputs": [
    {
     "name": "stdout",
     "output_type": "stream",
     "text": [
      "<class 'pandas.core.frame.DataFrame'>\n",
      "RangeIndex: 99 entries, 0 to 98\n",
      "Data columns (total 6 columns):\n",
      " #   Column       Non-Null Count  Dtype\n",
      "---  ------       --------------  -----\n",
      " 0   Workforce    99 non-null     int64\n",
      " 1   Technology   99 non-null     int64\n",
      " 2   R&D          99 non-null     int64\n",
      " 3   Advt         99 non-null     int64\n",
      " 4   real estate  99 non-null     int64\n",
      " 5   Profits      99 non-null     int64\n",
      "dtypes: int64(6)\n",
      "memory usage: 4.8 KB\n"
     ]
    }
   ],
   "source": [
    "dataset.info()"
   ]
  },
  {
   "cell_type": "code",
   "execution_count": 6,
   "id": "69b9abe4",
   "metadata": {},
   "outputs": [
    {
     "data": {
      "text/html": [
       "<div>\n",
       "<style scoped>\n",
       "    .dataframe tbody tr th:only-of-type {\n",
       "        vertical-align: middle;\n",
       "    }\n",
       "\n",
       "    .dataframe tbody tr th {\n",
       "        vertical-align: top;\n",
       "    }\n",
       "\n",
       "    .dataframe thead th {\n",
       "        text-align: right;\n",
       "    }\n",
       "</style>\n",
       "<table border=\"1\" class=\"dataframe\">\n",
       "  <thead>\n",
       "    <tr style=\"text-align: right;\">\n",
       "      <th></th>\n",
       "      <th>Workforce</th>\n",
       "      <th>Technology</th>\n",
       "      <th>R&amp;D</th>\n",
       "      <th>Advt</th>\n",
       "      <th>real estate</th>\n",
       "      <th>Profits</th>\n",
       "    </tr>\n",
       "  </thead>\n",
       "  <tbody>\n",
       "    <tr>\n",
       "      <th>count</th>\n",
       "      <td>99.000000</td>\n",
       "      <td>9.900000e+01</td>\n",
       "      <td>99.000000</td>\n",
       "      <td>9.900000e+01</td>\n",
       "      <td>9.900000e+01</td>\n",
       "      <td>9.900000e+01</td>\n",
       "    </tr>\n",
       "    <tr>\n",
       "      <th>mean</th>\n",
       "      <td>2884.161616</td>\n",
       "      <td>9.729974e+06</td>\n",
       "      <td>149682.444444</td>\n",
       "      <td>9.729974e+06</td>\n",
       "      <td>9.729974e+06</td>\n",
       "      <td>9.882540e+06</td>\n",
       "    </tr>\n",
       "    <tr>\n",
       "      <th>std</th>\n",
       "      <td>1194.147982</td>\n",
       "      <td>7.231682e+06</td>\n",
       "      <td>95257.914958</td>\n",
       "      <td>7.231682e+06</td>\n",
       "      <td>7.231682e+06</td>\n",
       "      <td>7.287412e+06</td>\n",
       "    </tr>\n",
       "    <tr>\n",
       "      <th>min</th>\n",
       "      <td>1002.000000</td>\n",
       "      <td>1.004004e+06</td>\n",
       "      <td>16820.000000</td>\n",
       "      <td>1.004004e+06</td>\n",
       "      <td>1.004004e+06</td>\n",
       "      <td>1.072140e+06</td>\n",
       "    </tr>\n",
       "    <tr>\n",
       "      <th>25%</th>\n",
       "      <td>1860.000000</td>\n",
       "      <td>3.461536e+06</td>\n",
       "      <td>78606.000000</td>\n",
       "      <td>3.461536e+06</td>\n",
       "      <td>3.461536e+06</td>\n",
       "      <td>3.565844e+06</td>\n",
       "    </tr>\n",
       "    <tr>\n",
       "      <th>50%</th>\n",
       "      <td>2705.000000</td>\n",
       "      <td>7.317025e+06</td>\n",
       "      <td>132182.000000</td>\n",
       "      <td>7.317025e+06</td>\n",
       "      <td>7.317025e+06</td>\n",
       "      <td>7.447000e+06</td>\n",
       "    </tr>\n",
       "    <tr>\n",
       "      <th>75%</th>\n",
       "      <td>3815.500000</td>\n",
       "      <td>1.455838e+07</td>\n",
       "      <td>200988.500000</td>\n",
       "      <td>1.455838e+07</td>\n",
       "      <td>1.455838e+07</td>\n",
       "      <td>1.483535e+07</td>\n",
       "    </tr>\n",
       "    <tr>\n",
       "      <th>max</th>\n",
       "      <td>4954.000000</td>\n",
       "      <td>2.454212e+07</td>\n",
       "      <td>418770.000000</td>\n",
       "      <td>2.454212e+07</td>\n",
       "      <td>2.454212e+07</td>\n",
       "      <td>2.489385e+07</td>\n",
       "    </tr>\n",
       "  </tbody>\n",
       "</table>\n",
       "</div>"
      ],
      "text/plain": [
       "         Workforce   Technology             R&D          Advt   real estate  \\\n",
       "count    99.000000  9.900000e+01      99.000000  9.900000e+01  9.900000e+01   \n",
       "mean   2884.161616  9.729974e+06  149682.444444  9.729974e+06  9.729974e+06   \n",
       "std    1194.147982  7.231682e+06   95257.914958  7.231682e+06  7.231682e+06   \n",
       "min    1002.000000  1.004004e+06   16820.000000  1.004004e+06  1.004004e+06   \n",
       "25%    1860.000000  3.461536e+06   78606.000000  3.461536e+06  3.461536e+06   \n",
       "50%    2705.000000  7.317025e+06  132182.000000  7.317025e+06  7.317025e+06   \n",
       "75%    3815.500000  1.455838e+07  200988.500000  1.455838e+07  1.455838e+07   \n",
       "max    4954.000000  2.454212e+07  418770.000000  2.454212e+07  2.454212e+07   \n",
       "\n",
       "            Profits  \n",
       "count  9.900000e+01  \n",
       "mean   9.882540e+06  \n",
       "std    7.287412e+06  \n",
       "min    1.072140e+06  \n",
       "25%    3.565844e+06  \n",
       "50%    7.447000e+06  \n",
       "75%    1.483535e+07  \n",
       "max    2.489385e+07  "
      ]
     },
     "execution_count": 6,
     "metadata": {},
     "output_type": "execute_result"
    }
   ],
   "source": [
    "dataset.describe()"
   ]
  },
  {
   "cell_type": "code",
   "execution_count": 27,
   "id": "4d885081",
   "metadata": {},
   "outputs": [
    {
     "name": "stdout",
     "output_type": "stream",
     "text": [
      "             Workforce  Technology        R&D      Advt  real estate   Profits\n",
      "Workforce     1.000000     0.984503  0.588900  0.984503     0.984503  0.984835\n",
      "Technology    0.984503     1.000000  0.568276  1.000000     1.000000  0.999942\n",
      "R&D           0.588900     0.568276  1.000000  0.568276     0.568276  0.577098\n",
      "Advt          0.984503     1.000000  0.568276  1.000000     1.000000  0.999942\n",
      "real estate   0.984503     1.000000  0.568276  1.000000     1.000000  0.999942\n",
      "Profits       0.984835     0.999942  0.577098  0.999942     0.999942  1.000000\n"
     ]
    },
    {
     "data": {
      "image/png": "[encoded data removed]",
      "text/plain": [
       "<Figure size 432x288 with 2 Axes>"
      ]
     },
     "metadata": {
      "needs_background": "light"
     },
     "output_type": "display_data"
    }
   ],
   "source": [
    "corr = dataset.corr()\n",
    "sns.heatmap(corr)\n",
    "print(corr)\n",
    "plt.show()"
   ]
  },
  {
   "cell_type": "code",
   "execution_count": 28,
   "id": "df23f57e",
   "metadata": {},
   "outputs": [
    {
     "data": {
      "image/png": "[encoded data removed]",
      "text/plain": [
       "<Figure size 432x288 with 1 Axes>"
      ]
     },
     "metadata": {
      "needs_background": "light"
     },
     "output_type": "display_data"
    }
   ],
   "source": [
    "dataset.boxplot()\n",
    "plt.show()"
   ]
  },
  {
   "cell_type": "code",
   "execution_count": 7,
   "id": "d1b9f1f1",
   "metadata": {},
   "outputs": [],
   "source": [
    "x = dataset.iloc[:,0:4].values\n",
    "y = dataset.iloc[:,-1].values"
   ]
  },
  {
   "cell_type": "code",
   "execution_count": 8,
   "id": "c36d9d6f",
   "metadata": {},
   "outputs": [],
   "source": [
    "x_train, x_test, y_train, y_test = train_test_split(x, y, test_size = 0.2)"
   ]
  },
  {
   "cell_type": "code",
   "execution_count": 11,
   "id": "2a3e3ffd",
   "metadata": {},
   "outputs": [],
   "source": [
    "polynomial_feature = PolynomialFeatures(degree = 2)\n",
    "X_poly = polynomial_feature.fit_transform(x)\n",
    "polynomial_regressor = LinearRegression()\n",
    "regressor = polynomial_regressor.fit(X_poly, y)"
   ]
  },
  {
   "cell_type": "code",
   "execution_count": 13,
   "id": "b83dd124",
   "metadata": {},
   "outputs": [],
   "source": [
    "polynomial_feature = PolynomialFeatures(degree = 2)\n",
    "X_poly = polynomial_feature.fit_transform(x_test)\n",
    "y_pred = regressor.predict(X_poly)"
   ]
  },
  {
   "cell_type": "code",
   "execution_count": 14,
   "id": "ff1470b6",
   "metadata": {},
   "outputs": [
    {
     "name": "stdout",
     "output_type": "stream",
     "text": [
      "[12655750  2100180 13960502  4717143  5241780  1408596  7447000  5517720\n",
      " 15229044 13644907  2255163  7283376 21067844  1136162  2725512  2028498\n",
      " 20321943  1231878 15514496  9442429]\n"
     ]
    }
   ],
   "source": [
    "print(y_test)"
   ]
  },
  {
   "cell_type": "code",
   "execution_count": 15,
   "id": "473789ad",
   "metadata": {},
   "outputs": [
    {
     "name": "stdout",
     "output_type": "stream",
     "text": [
      "[12655750.00513046  2100180.0056421  13960502.00377672  4717143.00135267\n",
      "  5241780.00199174  1408596.01104948  7447000.003376    5517720.00208469\n",
      " 15229044.00242799 13644907.00417261  2255163.00485471  7283376.00268643\n",
      " 21067843.98678844  1136162.01452422  2725512.00330918  2028498.00609196\n",
      " 20321942.98943346  1231878.01319351 15514496.00164073  9442429.00453728]\n"
     ]
    }
   ],
   "source": [
    "print(y_pred)"
   ]
  },
  {
   "cell_type": "code",
   "execution_count": 16,
   "id": "c7acafa0",
   "metadata": {},
   "outputs": [
    {
     "name": "stdout",
     "output_type": "stream",
     "text": [
      "[-0.00513046 -0.0056421  -0.00377672 -0.00135267 -0.00199174 -0.01104948\n",
      " -0.003376   -0.00208469 -0.00242799 -0.00417261 -0.00485471 -0.00268643\n",
      "  0.01321156 -0.01452422 -0.00330918 -0.00609196  0.01056654 -0.01319351\n",
      " -0.00164073 -0.00453728]\n"
     ]
    }
   ],
   "source": [
    "error = y_test - y_pred\n",
    "print(error)"
   ]
  },
  {
   "cell_type": "code",
   "execution_count": 17,
   "id": "6738cc82",
   "metadata": {},
   "outputs": [
    {
     "name": "stdout",
     "output_type": "stream",
     "text": [
      "[[-0.00513046]\n",
      " [-0.0056421 ]\n",
      " [-0.00377672]\n",
      " [-0.00135267]\n",
      " [-0.00199174]\n",
      " [-0.01104948]\n",
      " [-0.003376  ]\n",
      " [-0.00208469]\n",
      " [-0.00242799]\n",
      " [-0.00417261]\n",
      " [-0.00485471]\n",
      " [-0.00268643]\n",
      " [ 0.01321156]\n",
      " [-0.01452422]\n",
      " [-0.00330918]\n",
      " [-0.00609196]\n",
      " [ 0.01056654]\n",
      " [-0.01319351]\n",
      " [-0.00164073]\n",
      " [-0.00453728]]\n"
     ]
    }
   ],
   "source": [
    "print(error.reshape(20,1))"
   ]
  },
  {
   "cell_type": "code",
   "execution_count": 18,
   "id": "f366617d",
   "metadata": {},
   "outputs": [
    {
     "data": {
      "image/png": "[encoded data removed]",
      "text/plain": [
       "<Figure size 432x288 with 1 Axes>"
      ]
     },
     "metadata": {
      "needs_background": "light"
     },
     "output_type": "display_data"
    }
   ],
   "source": [
    "plt.scatter(range(20), y_test, color='red', s=50)\n",
    "plt.scatter(range(20), y_pred, color='blue', marker = '^', s = 20)\n",
    "plt.show()"
   ]
  },
  {
   "cell_type": "code",
   "execution_count": 19,
   "id": "f02efabd",
   "metadata": {},
   "outputs": [
    {
     "name": "stdout",
     "output_type": "stream",
     "text": [
      "[ 0.00000000e+00  9.99908115e-01  3.33333378e-01  9.99999982e-01\n",
      "  3.33333330e-01  3.33333330e-01 -6.16985831e-11  8.38259248e-12\n",
      "  5.64590117e-11  9.77690061e-06  2.03355451e-08 -3.94462906e-06\n",
      " -1.54865270e-14 -2.03355459e-08 -5.83227155e-06] 0.07589357160031796\n"
     ]
    }
   ],
   "source": [
    "print(regressor.coef_, regressor.intercept_)"
   ]
  },
  {
   "cell_type": "code",
   "execution_count": null,
   "id": "581dbe87",
   "metadata": {},
   "outputs": [],
   "source": []
  }
 ],
 "metadata": {
  "kernelspec": {
   "display_name": "Python 3",
   "language": "python",
   "name": "python3"
  },
  "language_info": {
   "codemirror_mode": {
    "name": "ipython",
    "version": 3
   },
   "file_extension": ".py",
   "mimetype": "text/x-python",
   "name": "python",
   "nbconvert_exporter": "python",
   "pygments_lexer": "ipython3",
   "version": "3.8.8"
  }
 },
 "nbformat": 4,
 "nbformat_minor": 5
}
